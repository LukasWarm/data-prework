{
 "cells": [
  {
   "cell_type": "markdown",
   "metadata": {},
   "source": [
    "<img src=\"https://bit.ly/2VnXWr2\" width=\"100\" align=\"left\"/>"
   ]
  },
  {
   "cell_type": "markdown",
   "metadata": {},
   "source": [
    "# Robin Hood\n",
    "Robin Hood has entered a competition to win the archery contest in Sherwood. With his bow and arrows, he needs to shoot on a target and try to hit as close as possible to the center.\n",
    "\n",
    "![](images/arrows.jpg)\n",
    "\n",
    "## Context\n",
    "In this challenge, the landing position of arrows shot by archers in the competition will be represented using 2-dimensional coordinates. \n",
    "\n",
    "In the 2-dimensional space, a point can be defined by a pair of values that correspond to the horizontal coordinate (x) and the vertical coordinate (y). For example, in our case, an arrow that hits the center of the archery target will land in position (0, 0) on the coordinate axes. \n",
    "\n",
    "The space can be divided into 4 zones (quadrants): Q1, Q2, Q3, Q4. If a point is in Q1, both its x coordinate and y coordinate are positive. Any point with a null x or y coordinate is considered to not belong to any quadrant. \n",
    "\n",
    "If you want to know more about the cartesian coordinate system, you can check this [link](https://en.wikipedia.org/wiki/Cartesian_coordinate_system). \n",
    "\n",
    "## Tools\n",
    "You don't necessarily need to use all the tools. Maybe you opt to use some of them or completely different ones, they are given to help you shape the exercise. Programming exercises can be solved in many different ways.\n",
    "* Data structures: **lists, sets, tuples**\n",
    "* Conditional statements: **if-elif-else**\n",
    "* Loop: **while/for**\n",
    "* Minimum (optional sorting)\n",
    "\n",
    "## Tasks\n",
    "Robin Hood has hit the following points:"
   ]
  },
  {
   "cell_type": "code",
   "execution_count": 1,
   "metadata": {},
   "outputs": [],
   "source": [
    "points = [(4, 5), (-0, 2), (4, 7), (1, -3), (3, -2), (4, 5), (3, 2), (5, 7), (-5, 7), (2, 2), (-4, 5), (0, -2),\n",
    "          (-4, 7), (-1, 3), (-3, 2), (-4, -5), (-3, 2), (5, 7), (5, 7), (2, 2), (9, 9), (-8, -9)]"
   ]
  },
  {
   "cell_type": "markdown",
   "metadata": {},
   "source": [
    "#### 1. Robin Hood is famous for hitting an arrow with another arrow. Find the coordinates of the points where an arrow hits another arrow."
   ]
  },
  {
   "cell_type": "code",
   "execution_count": 4,
   "metadata": {},
   "outputs": [
    {
     "name": "stdout",
     "output_type": "stream",
     "text": [
      "arrows at the same points: [(4, 5), (5, 7), (2, 2), (-3, 2), (5, 7)]\n"
     ]
    }
   ],
   "source": [
    "same_points = []\n",
    "for index in range(len(points)):\n",
    "   \n",
    "    if points[index] in points[index+1::]:\n",
    "        same_points.append(points[index])\n",
    "print('arrows at the same points:', same_points)"
   ]
  },
  {
   "cell_type": "markdown",
   "metadata": {},
   "source": [
    "#### 2. Calculate how many arrows have fallen in each quadrant. \n",
    "**Note**: the arrows that fall in the axis (x=0 or y=0) don't belong to any quadrant."
   ]
  },
  {
   "cell_type": "code",
   "execution_count": 5,
   "metadata": {},
   "outputs": [
    {
     "name": "stdout",
     "output_type": "stream",
     "text": [
      "Quadrant one: 10\n",
      "Quadrant two: 6\n",
      "Quadrant three: 2\n",
      "Quadrant four: 2\n",
      "Limbo limbo land: 2\n"
     ]
    }
   ],
   "source": [
    "q_1 = 0\n",
    "q_2 = 0\n",
    "q_3 = 0\n",
    "q_4 = 0\n",
    "limbo_limbo_land = 0\n",
    "\n",
    "for a in points:\n",
    "    if (a[0] > 0 and a[1] > 0):\n",
    "        q_1 += 1\n",
    "    elif (a[0] < 0 and a[1] > 0):\n",
    "       q_2 += 1\n",
    "    elif (a[0] < 0 and a[1] < 0):\n",
    "       q_3 += 1\n",
    "    elif (a[0] > 0 and a[1] < 0):\n",
    "       q_4 += 1\n",
    "    else:\n",
    "       limbo_limbo_land += 1\n",
    "\n",
    "print(\"Quadrant one:\", q_1)\n",
    "print(\"Quadrant two:\", q_2)\n",
    "print(\"Quadrant three:\", q_3)\n",
    "print(\"Quadrant four:\", q_4)\n",
    "print(\"Limbo limbo land:\", limbo_limbo_land)"
   ]
  },
  {
   "cell_type": "markdown",
   "metadata": {},
   "source": [
    "#### 3. Find the point closest to the center. Calculate its distance to the center. \n",
    "Take into account that there might be more than one point at the minimum distance to the center.\n",
    "\n",
    "**Hint**: Use the Euclidean distance. You can find more information about it [here](https://en.wikipedia.org/wiki/Euclidean_distance).  \n",
    "**Hint**: Defining a function that calculates the distance to the center can help."
   ]
  },
  {
   "cell_type": "code",
   "execution_count": 6,
   "metadata": {},
   "outputs": [
    {
     "name": "stdout",
     "output_type": "stream",
     "text": [
      "2.0\n"
     ]
    }
   ],
   "source": [
    "import math\n",
    "\n",
    "euc_distance = []\n",
    "def e_distance(list):\n",
    "    for x in list:\n",
    "\n",
    "\n",
    "            result = math.sqrt((x[0] - 0) ** 2 + (x[1] - 0) **2)\n",
    "            euc_distance.append(result)\n",
    "    return euc_distance\n",
    "            \n",
    "\n",
    "e_distance(points)\n",
    "closest_to_center = min(euc_distance)\n",
    "print(\"Arrow closest to center:\", closest_to_center)"
   ]
  },
  {
   "cell_type": "markdown",
   "metadata": {},
   "source": [
    "#### 4. If the archery target has a radius of 9, calculate the number of arrows that won't hit the target. \n",
    "**Hint**: Use the function created in step 3. "
   ]
  },
  {
   "cell_type": "code",
   "execution_count": 7,
   "metadata": {},
   "outputs": [
    {
     "name": "stdout",
     "output_type": "stream",
     "text": [
      "Arrows out of range: 4\n"
     ]
    }
   ],
   "source": [
    "out_of_range = 0\n",
    "arrows = e_distance(points)\n",
    "for x in arrows:\n",
    "    if x > 9:\n",
    "        out_of_range +=1\n",
    "\n",
    "print(\"Arrows out of range:\", out_of_range)"
   ]
  }
 ],
 "metadata": {
  "kernelspec": {
   "display_name": "Python 3",
   "language": "python",
   "name": "python3"
  },
  "language_info": {
   "codemirror_mode": {
    "name": "ipython",
    "version": 3
   },
   "file_extension": ".py",
   "mimetype": "text/x-python",
   "name": "python",
   "nbconvert_exporter": "python",
   "pygments_lexer": "ipython3",
   "version": "3.8.5"
  }
 },
 "nbformat": 4,
 "nbformat_minor": 2
}
